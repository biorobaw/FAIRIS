{
 "cells": [
  {
   "cell_type": "code",
   "execution_count": 4,
   "outputs": [
    {
     "name": "stdout",
     "output_type": "stream",
     "text": [
      "/Users/titonka/FAIRIS\n"
     ]
    }
   ],
   "source": [
    "import os\n",
    "os.chdir(\"../../..\")\n",
    "print(os.getcwd())"
   ],
   "metadata": {
    "collapsed": false,
    "ExecuteTime": {
     "end_time": "2025-07-16T19:16:38.926702Z",
     "start_time": "2025-07-16T19:16:38.920205Z"
    }
   },
   "id": "bc614231619ff243"
  },
  {
   "cell_type": "code",
   "execution_count": null,
   "outputs": [],
   "source": [
    "import cv2\n",
    "import numpy as np"
   ],
   "metadata": {
    "collapsed": false
   },
   "id": "a0851fe463f0749"
  },
  {
   "cell_type": "code",
   "execution_count": 5,
   "outputs": [],
   "source": [
    "def generate_apriltags(batch_size, tag_size=128, dictionary_type=cv2.aruco.DICT_APRILTAG_36h11, start_id=0):\n",
    "    \"\"\"\n",
    "    Generate a batch of AprilTag images.\n",
    "\n",
    "    Args:\n",
    "        batch_size (int): Number of AprilTags to generate.\n",
    "        tag_size (int): Size of each tag in pixels (default: 128).\n",
    "        dictionary_type (int): ArUco dictionary type (default: DICT_APRILTAG_36h11).\n",
    "        start_id (int): Starting ID for the tags (default: 0).\n",
    "\n",
    "    Returns:\n",
    "        list: List of generated AprilTag images as NumPy arrays.\n",
    "    \"\"\"\n",
    "    dictionary = cv2.aruco.getPredefinedDictionary(dictionary_type)\n",
    "    tags = []\n",
    "\n",
    "    for tag_id in range(start_id, start_id + batch_size):\n",
    "        # Generate the marker image\n",
    "        tag_image = np.zeros((tag_size, tag_size), dtype=np.uint8)\n",
    "        tag_image = cv2.aruco.generateImageMarker(dictionary, tag_id, tag_size, tag_image, 1)\n",
    "        tags.append(tag_image)\n",
    "\n",
    "        # Optional: Save to file\n",
    "        cv2.imwrite(f\"simulation/protos/WorldObjects/LandMarkTags/landmark_tag_{tag_id}.png\", tag_image)\n",
    "        print(f\"Generated AprilTag ID {tag_id} and saved as apriltag_id{tag_id}.png\")\n",
    "\n",
    "    return tags"
   ],
   "metadata": {
    "collapsed": false,
    "ExecuteTime": {
     "end_time": "2025-07-16T19:18:18.412694Z",
     "start_time": "2025-07-16T19:18:18.407392Z"
    }
   },
   "id": "e9c58ec265678f24"
  },
  {
   "cell_type": "code",
   "execution_count": 7,
   "outputs": [
    {
     "name": "stdout",
     "output_type": "stream",
     "text": [
      "Generated AprilTag ID 0 and saved as apriltag_id0.png\n",
      "Generated AprilTag ID 1 and saved as apriltag_id1.png\n",
      "Generated AprilTag ID 2 and saved as apriltag_id2.png\n",
      "Generated AprilTag ID 3 and saved as apriltag_id3.png\n",
      "Generated AprilTag ID 4 and saved as apriltag_id4.png\n",
      "Generated AprilTag ID 5 and saved as apriltag_id5.png\n",
      "Generated AprilTag ID 6 and saved as apriltag_id6.png\n",
      "Generated AprilTag ID 7 and saved as apriltag_id7.png\n"
     ]
    },
    {
     "data": {
      "text/plain": "[array([[0, 0, 0, ..., 0, 0, 0],\n        [0, 0, 0, ..., 0, 0, 0],\n        [0, 0, 0, ..., 0, 0, 0],\n        ...,\n        [0, 0, 0, ..., 0, 0, 0],\n        [0, 0, 0, ..., 0, 0, 0],\n        [0, 0, 0, ..., 0, 0, 0]], shape=(128, 128), dtype=uint8),\n array([[0, 0, 0, ..., 0, 0, 0],\n        [0, 0, 0, ..., 0, 0, 0],\n        [0, 0, 0, ..., 0, 0, 0],\n        ...,\n        [0, 0, 0, ..., 0, 0, 0],\n        [0, 0, 0, ..., 0, 0, 0],\n        [0, 0, 0, ..., 0, 0, 0]], shape=(128, 128), dtype=uint8),\n array([[0, 0, 0, ..., 0, 0, 0],\n        [0, 0, 0, ..., 0, 0, 0],\n        [0, 0, 0, ..., 0, 0, 0],\n        ...,\n        [0, 0, 0, ..., 0, 0, 0],\n        [0, 0, 0, ..., 0, 0, 0],\n        [0, 0, 0, ..., 0, 0, 0]], shape=(128, 128), dtype=uint8),\n array([[0, 0, 0, ..., 0, 0, 0],\n        [0, 0, 0, ..., 0, 0, 0],\n        [0, 0, 0, ..., 0, 0, 0],\n        ...,\n        [0, 0, 0, ..., 0, 0, 0],\n        [0, 0, 0, ..., 0, 0, 0],\n        [0, 0, 0, ..., 0, 0, 0]], shape=(128, 128), dtype=uint8),\n array([[0, 0, 0, ..., 0, 0, 0],\n        [0, 0, 0, ..., 0, 0, 0],\n        [0, 0, 0, ..., 0, 0, 0],\n        ...,\n        [0, 0, 0, ..., 0, 0, 0],\n        [0, 0, 0, ..., 0, 0, 0],\n        [0, 0, 0, ..., 0, 0, 0]], shape=(128, 128), dtype=uint8),\n array([[0, 0, 0, ..., 0, 0, 0],\n        [0, 0, 0, ..., 0, 0, 0],\n        [0, 0, 0, ..., 0, 0, 0],\n        ...,\n        [0, 0, 0, ..., 0, 0, 0],\n        [0, 0, 0, ..., 0, 0, 0],\n        [0, 0, 0, ..., 0, 0, 0]], shape=(128, 128), dtype=uint8),\n array([[0, 0, 0, ..., 0, 0, 0],\n        [0, 0, 0, ..., 0, 0, 0],\n        [0, 0, 0, ..., 0, 0, 0],\n        ...,\n        [0, 0, 0, ..., 0, 0, 0],\n        [0, 0, 0, ..., 0, 0, 0],\n        [0, 0, 0, ..., 0, 0, 0]], shape=(128, 128), dtype=uint8),\n array([[0, 0, 0, ..., 0, 0, 0],\n        [0, 0, 0, ..., 0, 0, 0],\n        [0, 0, 0, ..., 0, 0, 0],\n        ...,\n        [0, 0, 0, ..., 0, 0, 0],\n        [0, 0, 0, ..., 0, 0, 0],\n        [0, 0, 0, ..., 0, 0, 0]], shape=(128, 128), dtype=uint8)]"
     },
     "execution_count": 7,
     "metadata": {},
     "output_type": "execute_result"
    }
   ],
   "source": [
    "# Example usage: Generate 5 AprilTags of 128x128 pixels starting from ID 0\n",
    "generate_apriltags(batch_size=8, tag_size=128)"
   ],
   "metadata": {
    "collapsed": false,
    "ExecuteTime": {
     "end_time": "2025-07-16T19:20:11.937239Z",
     "start_time": "2025-07-16T19:20:11.925680Z"
    }
   },
   "id": "fe12218ec4a28088"
  },
  {
   "cell_type": "code",
   "execution_count": null,
   "outputs": [],
   "source": [],
   "metadata": {
    "collapsed": false
   },
   "id": "d499a66649e82b2f"
  }
 ],
 "metadata": {
  "kernelspec": {
   "name": "python3",
   "language": "python",
   "display_name": "Python 3 (ipykernel)"
  },
  "language_info": {
   "codemirror_mode": {
    "name": "ipython",
    "version": 2
   },
   "file_extension": ".py",
   "mimetype": "text/x-python",
   "name": "python",
   "nbconvert_exporter": "python",
   "pygments_lexer": "ipython2",
   "version": "2.7.6"
  }
 },
 "nbformat": 4,
 "nbformat_minor": 5
}
